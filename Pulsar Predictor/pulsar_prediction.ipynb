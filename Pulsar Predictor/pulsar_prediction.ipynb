{
 "cells": [
  {
   "cell_type": "code",
   "execution_count": 1,
   "metadata": {},
   "outputs": [],
   "source": [
    "import numpy as np\n",
    "import pandas as pd"
   ]
  },
  {
   "cell_type": "code",
   "execution_count": 2,
   "metadata": {
    "scrolled": true
   },
   "outputs": [],
   "source": [
    "pulsar = pd.read_csv('pulsar_stars.csv')"
   ]
  },
  {
   "cell_type": "code",
   "execution_count": 3,
   "metadata": {},
   "outputs": [
    {
     "data": {
      "text/html": [
       "<div>\n",
       "<style scoped>\n",
       "    .dataframe tbody tr th:only-of-type {\n",
       "        vertical-align: middle;\n",
       "    }\n",
       "\n",
       "    .dataframe tbody tr th {\n",
       "        vertical-align: top;\n",
       "    }\n",
       "\n",
       "    .dataframe thead th {\n",
       "        text-align: right;\n",
       "    }\n",
       "</style>\n",
       "<table border=\"1\" class=\"dataframe\">\n",
       "  <thead>\n",
       "    <tr style=\"text-align: right;\">\n",
       "      <th></th>\n",
       "      <th>meanofintegratedprofile</th>\n",
       "      <th>stdevofintegratedprofile</th>\n",
       "      <th>excesskurtosisofintegratedprofile</th>\n",
       "      <th>skewnessofintegratedprofile</th>\n",
       "      <th>meanofdmsnrcurve</th>\n",
       "      <th>stdevofdmsnrcurve</th>\n",
       "      <th>excesskurtosisofdmsnrcurve</th>\n",
       "      <th>skewnessofdmsnrcurve</th>\n",
       "      <th>target_class</th>\n",
       "    </tr>\n",
       "  </thead>\n",
       "  <tbody>\n",
       "    <tr>\n",
       "      <th>0</th>\n",
       "      <td>140.562500</td>\n",
       "      <td>55.683782</td>\n",
       "      <td>-0.234571</td>\n",
       "      <td>-0.699648</td>\n",
       "      <td>3.199833</td>\n",
       "      <td>19.110426</td>\n",
       "      <td>7.975532</td>\n",
       "      <td>74.242225</td>\n",
       "      <td>0</td>\n",
       "    </tr>\n",
       "    <tr>\n",
       "      <th>1</th>\n",
       "      <td>102.507812</td>\n",
       "      <td>58.882430</td>\n",
       "      <td>0.465318</td>\n",
       "      <td>-0.515088</td>\n",
       "      <td>1.677258</td>\n",
       "      <td>14.860146</td>\n",
       "      <td>10.576487</td>\n",
       "      <td>127.393580</td>\n",
       "      <td>0</td>\n",
       "    </tr>\n",
       "    <tr>\n",
       "      <th>2</th>\n",
       "      <td>103.015625</td>\n",
       "      <td>39.341649</td>\n",
       "      <td>0.323328</td>\n",
       "      <td>1.051164</td>\n",
       "      <td>3.121237</td>\n",
       "      <td>21.744669</td>\n",
       "      <td>7.735822</td>\n",
       "      <td>63.171909</td>\n",
       "      <td>0</td>\n",
       "    </tr>\n",
       "    <tr>\n",
       "      <th>3</th>\n",
       "      <td>136.750000</td>\n",
       "      <td>57.178449</td>\n",
       "      <td>-0.068415</td>\n",
       "      <td>-0.636238</td>\n",
       "      <td>3.642977</td>\n",
       "      <td>20.959280</td>\n",
       "      <td>6.896499</td>\n",
       "      <td>53.593661</td>\n",
       "      <td>0</td>\n",
       "    </tr>\n",
       "    <tr>\n",
       "      <th>4</th>\n",
       "      <td>88.726562</td>\n",
       "      <td>40.672225</td>\n",
       "      <td>0.600866</td>\n",
       "      <td>1.123492</td>\n",
       "      <td>1.178930</td>\n",
       "      <td>11.468720</td>\n",
       "      <td>14.269573</td>\n",
       "      <td>252.567306</td>\n",
       "      <td>0</td>\n",
       "    </tr>\n",
       "  </tbody>\n",
       "</table>\n",
       "</div>"
      ],
      "text/plain": [
       "   meanofintegratedprofile  stdevofintegratedprofile  \\\n",
       "0               140.562500                 55.683782   \n",
       "1               102.507812                 58.882430   \n",
       "2               103.015625                 39.341649   \n",
       "3               136.750000                 57.178449   \n",
       "4                88.726562                 40.672225   \n",
       "\n",
       "   excesskurtosisofintegratedprofile  skewnessofintegratedprofile  \\\n",
       "0                          -0.234571                    -0.699648   \n",
       "1                           0.465318                    -0.515088   \n",
       "2                           0.323328                     1.051164   \n",
       "3                          -0.068415                    -0.636238   \n",
       "4                           0.600866                     1.123492   \n",
       "\n",
       "   meanofdmsnrcurve  stdevofdmsnrcurve  excesskurtosisofdmsnrcurve  \\\n",
       "0          3.199833          19.110426                    7.975532   \n",
       "1          1.677258          14.860146                   10.576487   \n",
       "2          3.121237          21.744669                    7.735822   \n",
       "3          3.642977          20.959280                    6.896499   \n",
       "4          1.178930          11.468720                   14.269573   \n",
       "\n",
       "   skewnessofdmsnrcurve  target_class  \n",
       "0             74.242225             0  \n",
       "1            127.393580             0  \n",
       "2             63.171909             0  \n",
       "3             53.593661             0  \n",
       "4            252.567306             0  "
      ]
     },
     "execution_count": 3,
     "metadata": {},
     "output_type": "execute_result"
    }
   ],
   "source": [
    "pulsar.head()"
   ]
  },
  {
   "cell_type": "code",
   "execution_count": 4,
   "metadata": {},
   "outputs": [
    {
     "data": {
      "text/plain": [
       "Index(['meanofintegratedprofile', 'stdevofintegratedprofile',\n",
       "       'excesskurtosisofintegratedprofile', 'skewnessofintegratedprofile',\n",
       "       'meanofdmsnrcurve', 'stdevofdmsnrcurve', 'excesskurtosisofdmsnrcurve',\n",
       "       'skewnessofdmsnrcurve', 'target_class'],\n",
       "      dtype='object')"
      ]
     },
     "execution_count": 4,
     "metadata": {},
     "output_type": "execute_result"
    }
   ],
   "source": [
    "pulsar.columns"
   ]
  },
  {
   "cell_type": "code",
   "execution_count": 5,
   "metadata": {},
   "outputs": [],
   "source": [
    "cols_to_norm = ['meanofintegratedprofile', 'stdevofintegratedprofile',\n",
    "       'excesskurtosisofintegratedprofile', 'skewnessofintegratedprofile',\n",
    "       'meanofdmsnrcurve', 'stdevofdmsnrcurve', 'excesskurtosisofdmsnrcurve',\n",
    "       'skewnessofdmsnrcurve', 'target_class']"
   ]
  },
  {
   "cell_type": "code",
   "execution_count": 6,
   "metadata": {},
   "outputs": [],
   "source": [
    "pulsar[cols_to_norm] = pulsar[cols_to_norm].apply(lambda x: (x - x.min()) / (x.max()-x.min() ))"
   ]
  },
  {
   "cell_type": "code",
   "execution_count": null,
   "metadata": {},
   "outputs": [],
   "source": []
  },
  {
   "cell_type": "code",
   "execution_count": 7,
   "metadata": {},
   "outputs": [],
   "source": [
    "import tensorflow as tf"
   ]
  },
  {
   "cell_type": "code",
   "execution_count": null,
   "metadata": {},
   "outputs": [],
   "source": []
  },
  {
   "cell_type": "code",
   "execution_count": 8,
   "metadata": {},
   "outputs": [],
   "source": [
    "meaninteg = tf.feature_column.numeric_column('meanofintegratedprofile')\n",
    "stdevinteg = tf.feature_column.numeric_column('stdevofintegratedprofile')\n",
    "excesskurtosisinteg = tf.feature_column.numeric_column('excesskurtosisofintegratedprofile')\n",
    "skewnessinteg = tf.feature_column.numeric_column('skewnessofintegratedprofile')\n",
    "meandm = tf.feature_column.numeric_column('meanofdmsnrcurve')\n",
    "stdevdm = tf.feature_column.numeric_column('stdevofdmsnrcurve')\n",
    "excesskurtosisdm = tf.feature_column.numeric_column('excesskurtosisofdmsnrcurve')\n",
    "skewnessdm = tf.feature_column.numeric_column('skewnessofdmsnrcurve')"
   ]
  },
  {
   "cell_type": "code",
   "execution_count": 9,
   "metadata": {},
   "outputs": [],
   "source": [
    "feat_cols = [meaninteg,stdevinteg,excesskurtosisinteg,skewnessinteg,meandm,stdevdm,excesskurtosisdm,skewnessdm]"
   ]
  },
  {
   "cell_type": "code",
   "execution_count": 10,
   "metadata": {},
   "outputs": [],
   "source": [
    "# Train test split"
   ]
  },
  {
   "cell_type": "code",
   "execution_count": 11,
   "metadata": {},
   "outputs": [],
   "source": [
    "x_data = pulsar.drop('target_class',axis=1)"
   ]
  },
  {
   "cell_type": "code",
   "execution_count": null,
   "metadata": {},
   "outputs": [],
   "source": []
  },
  {
   "cell_type": "code",
   "execution_count": 12,
   "metadata": {},
   "outputs": [],
   "source": [
    "labels = pulsar['target_class']"
   ]
  },
  {
   "cell_type": "code",
   "execution_count": 13,
   "metadata": {},
   "outputs": [],
   "source": [
    "from sklearn.model_selection import train_test_split"
   ]
  },
  {
   "cell_type": "code",
   "execution_count": 14,
   "metadata": {},
   "outputs": [],
   "source": [
    "X_train, X_test, y_train, y_test = train_test_split(x_data,labels,test_size=0.3)"
   ]
  },
  {
   "cell_type": "code",
   "execution_count": 15,
   "metadata": {},
   "outputs": [],
   "source": [
    "input_func = tf.estimator.inputs.pandas_input_fn(x=X_train,y=y_train,batch_size=10, num_epochs=1000, shuffle=True)"
   ]
  },
  {
   "cell_type": "code",
   "execution_count": 16,
   "metadata": {},
   "outputs": [
    {
     "name": "stdout",
     "output_type": "stream",
     "text": [
      "INFO:tensorflow:Using default config.\n",
      "WARNING:tensorflow:Using temporary folder as model directory: /var/folders/bh/sd79gyp14_s12gccvf7s4vp00000gn/T/tmpw43_qm4m\n",
      "INFO:tensorflow:Using config: {'_model_dir': '/var/folders/bh/sd79gyp14_s12gccvf7s4vp00000gn/T/tmpw43_qm4m', '_tf_random_seed': None, '_save_summary_steps': 100, '_save_checkpoints_steps': None, '_save_checkpoints_secs': 600, '_session_config': allow_soft_placement: true\n",
      "graph_options {\n",
      "  rewrite_options {\n",
      "    meta_optimizer_iterations: ONE\n",
      "  }\n",
      "}\n",
      ", '_keep_checkpoint_max': 5, '_keep_checkpoint_every_n_hours': 10000, '_log_step_count_steps': 100, '_train_distribute': None, '_device_fn': None, '_protocol': None, '_eval_distribute': None, '_experimental_distribute': None, '_service': None, '_cluster_spec': <tensorflow.python.training.server_lib.ClusterSpec object at 0x12f5676d8>, '_task_type': 'worker', '_task_id': 0, '_global_id_in_cluster': 0, '_master': '', '_evaluation_master': '', '_is_chief': True, '_num_ps_replicas': 0, '_num_worker_replicas': 1}\n"
     ]
    }
   ],
   "source": [
    "model = tf.estimator.DNNClassifier(hidden_units=[10,10,10],feature_columns=feat_cols,n_classes=2)"
   ]
  },
  {
   "cell_type": "code",
   "execution_count": 17,
   "metadata": {},
   "outputs": [
    {
     "name": "stdout",
     "output_type": "stream",
     "text": [
      "WARNING:tensorflow:From /Library/Frameworks/Python.framework/Versions/3.7/lib/python3.7/site-packages/tensorflow/python/framework/op_def_library.py:263: colocate_with (from tensorflow.python.framework.ops) is deprecated and will be removed in a future version.\n",
      "Instructions for updating:\n",
      "Colocations handled automatically by placer.\n",
      "WARNING:tensorflow:From /Library/Frameworks/Python.framework/Versions/3.7/lib/python3.7/site-packages/tensorflow_estimator/python/estimator/inputs/queues/feeding_queue_runner.py:62: QueueRunner.__init__ (from tensorflow.python.training.queue_runner_impl) is deprecated and will be removed in a future version.\n",
      "Instructions for updating:\n",
      "To construct input pipelines, use the `tf.data` module.\n",
      "WARNING:tensorflow:From /Library/Frameworks/Python.framework/Versions/3.7/lib/python3.7/site-packages/tensorflow_estimator/python/estimator/inputs/queues/feeding_functions.py:500: add_queue_runner (from tensorflow.python.training.queue_runner_impl) is deprecated and will be removed in a future version.\n",
      "Instructions for updating:\n",
      "To construct input pipelines, use the `tf.data` module.\n",
      "INFO:tensorflow:Calling model_fn.\n",
      "WARNING:tensorflow:From /Library/Frameworks/Python.framework/Versions/3.7/lib/python3.7/site-packages/tensorflow/python/feature_column/feature_column_v2.py:2703: to_float (from tensorflow.python.ops.math_ops) is deprecated and will be removed in a future version.\n",
      "Instructions for updating:\n",
      "Use tf.cast instead.\n",
      "INFO:tensorflow:Done calling model_fn.\n",
      "INFO:tensorflow:Create CheckpointSaverHook.\n",
      "INFO:tensorflow:Graph was finalized.\n",
      "INFO:tensorflow:Running local_init_op.\n",
      "INFO:tensorflow:Done running local_init_op.\n",
      "WARNING:tensorflow:From /Library/Frameworks/Python.framework/Versions/3.7/lib/python3.7/site-packages/tensorflow/python/training/monitored_session.py:809: start_queue_runners (from tensorflow.python.training.queue_runner_impl) is deprecated and will be removed in a future version.\n",
      "Instructions for updating:\n",
      "To construct input pipelines, use the `tf.data` module.\n",
      "INFO:tensorflow:Saving checkpoints for 0 into /var/folders/bh/sd79gyp14_s12gccvf7s4vp00000gn/T/tmpw43_qm4m/model.ckpt.\n",
      "INFO:tensorflow:loss = 6.850729, step = 1\n",
      "INFO:tensorflow:global_step/sec: 206.959\n",
      "INFO:tensorflow:loss = 0.43179542, step = 101 (0.488 sec)\n",
      "INFO:tensorflow:global_step/sec: 317.829\n",
      "INFO:tensorflow:loss = 2.861947, step = 201 (0.313 sec)\n",
      "INFO:tensorflow:global_step/sec: 168.954\n",
      "INFO:tensorflow:loss = 1.1316726, step = 301 (0.587 sec)\n",
      "INFO:tensorflow:global_step/sec: 332.861\n",
      "INFO:tensorflow:loss = 0.09253172, step = 401 (0.303 sec)\n",
      "INFO:tensorflow:global_step/sec: 359.174\n",
      "INFO:tensorflow:loss = 0.2283612, step = 501 (0.278 sec)\n",
      "INFO:tensorflow:global_step/sec: 359.066\n",
      "INFO:tensorflow:loss = 0.20893794, step = 601 (0.279 sec)\n",
      "INFO:tensorflow:global_step/sec: 376.777\n",
      "INFO:tensorflow:loss = 1.5702575, step = 701 (0.268 sec)\n",
      "INFO:tensorflow:global_step/sec: 392.738\n",
      "INFO:tensorflow:loss = 0.5047006, step = 801 (0.256 sec)\n",
      "INFO:tensorflow:global_step/sec: 368.926\n",
      "INFO:tensorflow:loss = 0.65457696, step = 901 (0.266 sec)\n",
      "INFO:tensorflow:Saving checkpoints for 1000 into /var/folders/bh/sd79gyp14_s12gccvf7s4vp00000gn/T/tmpw43_qm4m/model.ckpt.\n",
      "INFO:tensorflow:Loss for final step: 1.8202136.\n"
     ]
    },
    {
     "data": {
      "text/plain": [
       "<tensorflow_estimator.python.estimator.canned.dnn.DNNClassifier at 0x12f567550>"
      ]
     },
     "execution_count": 17,
     "metadata": {},
     "output_type": "execute_result"
    }
   ],
   "source": [
    "model.train(input_fn=input_func,steps=1000)"
   ]
  },
  {
   "cell_type": "code",
   "execution_count": 19,
   "metadata": {},
   "outputs": [],
   "source": [
    "eval_input_func = tf.estimator.inputs.pandas_input_fn(x=X_test,y=y_test,batch_size=10,num_epochs=1,shuffle=False)"
   ]
  },
  {
   "cell_type": "markdown",
   "metadata": {},
   "source": [
    "model.evaluate(eval_input_func)"
   ]
  },
  {
   "cell_type": "code",
   "execution_count": null,
   "metadata": {},
   "outputs": [
    {
     "name": "stdout",
     "output_type": "stream",
     "text": [
      "INFO:tensorflow:Calling model_fn.\n",
      "WARNING:tensorflow:From /Library/Frameworks/Python.framework/Versions/3.7/lib/python3.7/site-packages/tensorflow/python/ops/metrics_impl.py:2002: div (from tensorflow.python.ops.math_ops) is deprecated and will be removed in a future version.\n",
      "Instructions for updating:\n",
      "Deprecated in favor of operator or tf.math.divide.\n"
     ]
    }
   ],
   "source": [
    "model.evaluate(eval_input_func)"
   ]
  },
  {
   "cell_type": "code",
   "execution_count": null,
   "metadata": {},
   "outputs": [],
   "source": []
  }
 ],
 "metadata": {
  "kernelspec": {
   "display_name": "Python 3",
   "language": "python",
   "name": "python3"
  },
  "language_info": {
   "codemirror_mode": {
    "name": "ipython",
    "version": 3
   },
   "file_extension": ".py",
   "mimetype": "text/x-python",
   "name": "python",
   "nbconvert_exporter": "python",
   "pygments_lexer": "ipython3",
   "version": "3.7.2"
  }
 },
 "nbformat": 4,
 "nbformat_minor": 2
}
